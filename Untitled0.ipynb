{
  "cells": [
    {
      "cell_type": "markdown",
      "metadata": {
        "id": "view-in-github",
        "colab_type": "text"
      },
      "source": [
        "<a href=\"https://colab.research.google.com/github/milarsinamcha/AbhijitL.github.io/blob/main/Untitled0.ipynb\" target=\"_parent\"><img src=\"https://colab.research.google.com/assets/colab-badge.svg\" alt=\"Open In Colab\"/></a>"
      ]
    },
    {
      "cell_type": "code",
      "execution_count": null,
      "metadata": {
        "id": "Zj_TeluXO95k",
        "colab": {
          "base_uri": "https://localhost:8080/"
        },
        "outputId": "4e21ceb8-513a-4451-e404-b7742fba81c9"
      },
      "outputs": [
        {
          "output_type": "stream",
          "name": "stdout",
          "text": [
            "Mounted at /content/drive\n"
          ]
        }
      ],
      "source": [
        "from google.colab import drive\n",
        "drive.mount('/content/drive')"
      ]
    },
    {
      "cell_type": "code",
      "execution_count": null,
      "metadata": {
        "colab": {
          "base_uri": "https://localhost:8080/"
        },
        "id": "OvdbW2Mh7lWx",
        "outputId": "9174ddb2-c85d-4e17-9972-e8dba2929f1b"
      },
      "outputs": [
        {
          "output_type": "stream",
          "name": "stdout",
          "text": [
            "Processing ./drive/MyDrive/fsmpy extracted/fsmpy-main\n",
            "  Preparing metadata (setup.py) ... \u001b[?25l\u001b[?25hdone\n",
            "Requirement already satisfied: numpy>=1.14.6 in /usr/local/lib/python3.10/dist-packages (from fuzzy-set-measures==0.1.1) (1.23.5)\n",
            "Requirement already satisfied: scikit-learn>=0.24.2 in /usr/local/lib/python3.10/dist-packages (from fuzzy-set-measures==0.1.1) (1.2.2)\n",
            "Requirement already satisfied: tqdm>=4.62.1 in /usr/local/lib/python3.10/dist-packages (from fuzzy-set-measures==0.1.1) (4.66.1)\n",
            "Requirement already satisfied: scipy>=1.3.2 in /usr/local/lib/python3.10/dist-packages (from scikit-learn>=0.24.2->fuzzy-set-measures==0.1.1) (1.11.4)\n",
            "Requirement already satisfied: joblib>=1.1.1 in /usr/local/lib/python3.10/dist-packages (from scikit-learn>=0.24.2->fuzzy-set-measures==0.1.1) (1.3.2)\n",
            "Requirement already satisfied: threadpoolctl>=2.0.0 in /usr/local/lib/python3.10/dist-packages (from scikit-learn>=0.24.2->fuzzy-set-measures==0.1.1) (3.2.0)\n",
            "Building wheels for collected packages: fuzzy-set-measures\n",
            "  Building wheel for fuzzy-set-measures (setup.py) ... \u001b[?25l\u001b[?25hdone\n",
            "  Created wheel for fuzzy-set-measures: filename=fuzzy_set_measures-0.1.1-py3-none-any.whl size=24683 sha256=e89bc06fa1329b7bbd7b2ace4c26c6412c5eda4e1552f176caa2506a94239120\n",
            "  Stored in directory: /root/.cache/pip/wheels/b7/fb/08/ebb5328dc6ec51216fd8c4e3db7d28b96c2e816d4a202ca21d\n",
            "Successfully built fuzzy-set-measures\n",
            "Installing collected packages: fuzzy-set-measures\n",
            "Successfully installed fuzzy-set-measures-0.1.1\n"
          ]
        }
      ],
      "source": [
        "!pip install /content/drive/MyDrive/fsmpy\\ extracted/fsmpy-main"
      ]
    },
    {
      "cell_type": "code",
      "execution_count": null,
      "metadata": {
        "colab": {
          "base_uri": "https://localhost:8080/",
          "height": 140
        },
        "id": "WDCXmn5DPZPE",
        "outputId": "75b96498-676a-416c-caa5-857d2e88d51d"
      },
      "outputs": [
        {
          "output_type": "stream",
          "name": "stdout",
          "text": [
            "0.15921052631578947\n",
            "0.24473684210526317\n",
            "0.2710526315789474\n",
            "0.35789473684210527\n",
            "0.46447368421052637\n",
            "[1.]\n"
          ]
        },
        {
          "output_type": "execute_result",
          "data": {
            "text/plain": [
              "'{(0.4, 0.0, 0.6), (0.3, 0.5, 0.19999999999999996), (0.1, 0.7, 0.20000000000000007), (0.4, 0.3, 0.3), (0.1, 0.7, 0.20000000000000007)}'"
            ],
            "application/vnd.google.colaboratory.intrinsic+json": {
              "type": "string"
            }
          },
          "metadata": {},
          "execution_count": 12
        }
      ],
      "source": [
        "import numpy as np\n",
        "import sys\n",
        "sys.path.append('/content/drive/MyDrive/fsmpy extracted/fsmpy-main')\n",
        "from fsmpy.sets import IntuitionisticFuzzySet\n",
        "from fsmpy.distances import atanassov,wang_xin,szmidt_kacprzyk\n",
        "from fsmpy import DISTANCE_HAMMING, DISTANCE_EUCLIDEAN, DISTANCE_NORMALIZED_HAMMING, DISTANCE_NORMALIZED_EUCLIDEAN,WANGXIN_DISTANCE_1, WANGXIN_DISTANCE_2\n",
        "\n",
        "viral_fever = IntuitionisticFuzzySet([0.4, 0.3, 0.1, 0.4, 0.1],[0.0, 0.5, 0.7, 0.3, 0.7])\n",
        "malaria = IntuitionisticFuzzySet([0.7, 0.2, 0.0, 0.7, 0.1], [0.0, 0.6, 0.9, 0.0, 0.8])\n",
        "typhoid = IntuitionisticFuzzySet([0.3, 0.6, 0.2, 0.2, 0.1], [0.3, 0.1, 0.7, 0.6, 0.9])\n",
        "stomach_problem = IntuitionisticFuzzySet([0.1, 0.2, 0.8, 0.2, 0.2], [0.7, 0.4, 0.0, 0.7, 0.7])\n",
        "chest_problem = IntuitionisticFuzzySet([0.1, 0.0, 0.2, 0.2, 0.8], [0.8, 0.8, 0.8, 0.8, 0.1])\n",
        "diagnoses = [viral_fever, malaria, typhoid, stomach_problem, chest_problem]\n",
        "\n",
        "al = IntuitionisticFuzzySet([0.8, 0.6, 0.2, 0.6, 0.1], [0.1, 0.1, 0.8, 0.1, 0.6])\n",
        "bob = IntuitionisticFuzzySet([0.0, 0.4, 0.6, 0.1, 0.1], [0.8, 0.4, 0.1, 0.7, 0.8])\n",
        "joe = IntuitionisticFuzzySet([0.8, 0.8, 0.0, 0.2, 0.0], [0.1, 0.1, 0.6, 0.7, 0.5])\n",
        "ted = IntuitionisticFuzzySet([0.6, 0.5, 0.3, 0.7, 0.3], [0.1, 0.4, 0.4, 0.2, 0.4])\n",
        "milar=IntuitionisticFuzzySet([0.5, 0.4, 0.2, 0.6, 0.2], [0.2, 0.5, 0.5, 0.3, 0.5])\n",
        "patients = [al, bob, joe, ted, milar]\n",
        "\n",
        "for dg in diagnoses:\n",
        "    print(wang_xin(dg, milar,distance_type = WANGXIN_DISTANCE_1,weights=[0.5,0.2,0.3,0.4,0.5]))\n",
        "print(np.ones(1))\n",
        "str(viral_fever)\n"
      ]
    },
    {
      "cell_type": "code",
      "execution_count": null,
      "metadata": {
        "colab": {
          "base_uri": "https://localhost:8080/"
        },
        "id": "wStEKKt9RPFk",
        "outputId": "fd7b579a-8f9c-430d-9077-0392c2e917e3"
      },
      "outputs": [
        {
          "name": "stdout",
          "output_type": "stream",
          "text": [
            "0.51478150704935\n",
            "0.95\n",
            "0.19\n",
            "0.23021728866442678\n"
          ]
        }
      ],
      "source": [
        "print(atanassov(viral_fever,al,DISTANCE_EUCLIDEAN))\n",
        "print(atanassov(viral_fever,al,DISTANCE_HAMMING))\n",
        "print(atanassov(viral_fever,al,DISTANCE_NORMALIZED_HAMMING))\n",
        "print(atanassov(viral_fever,al,DISTANCE_NORMALIZED_EUCLIDEAN))"
      ]
    },
    {
      "cell_type": "code",
      "execution_count": null,
      "metadata": {
        "colab": {
          "base_uri": "https://localhost:8080/"
        },
        "id": "dQMgVzfKWR9O",
        "outputId": "a343791d-a57b-4db6-9fa9-fc88f95ff733"
      },
      "outputs": [
        {
          "name": "stdout",
          "output_type": "stream",
          "text": [
            "1.4\n",
            "0.6480740698407861\n",
            "0.27999999999999997\n",
            "0.28982753492378877\n"
          ]
        }
      ],
      "source": [
        "print(szmidt_kacprzyk(viral_fever,al,DISTANCE_HAMMING))\n",
        "print(szmidt_kacprzyk(viral_fever,al,DISTANCE_EUCLIDEAN))\n",
        "print(szmidt_kacprzyk(viral_fever,al,DISTANCE_NORMALIZED_HAMMING))\n",
        "print(szmidt_kacprzyk(viral_fever,al,DISTANCE_NORMALIZED_EUCLIDEAN))"
      ]
    },
    {
      "cell_type": "code",
      "execution_count": null,
      "metadata": {
        "colab": {
          "base_uri": "https://localhost:8080/",
          "height": 227
        },
        "id": "IpUUoQPWcfux",
        "outputId": "0c020196-6ac2-49ff-d663-a4b47f29e046"
      },
      "outputs": [
        {
          "ename": "NameError",
          "evalue": "ignored",
          "output_type": "error",
          "traceback": [
            "\u001b[0;31m---------------------------------------------------------------------------\u001b[0m",
            "\u001b[0;31mNameError\u001b[0m                                 Traceback (most recent call last)",
            "\u001b[0;32m<ipython-input-5-ccaa293bd83b>\u001b[0m in \u001b[0;36m<cell line: 1>\u001b[0;34m()\u001b[0m\n\u001b[0;32m----> 1\u001b[0;31m \u001b[0mprint\u001b[0m\u001b[0;34m(\u001b[0m\u001b[0mgrzegorzewski\u001b[0m\u001b[0;34m(\u001b[0m\u001b[0mviral_fever\u001b[0m\u001b[0;34m,\u001b[0m\u001b[0mal\u001b[0m\u001b[0;34m,\u001b[0m\u001b[0mDISTANCE_HAMMING\u001b[0m\u001b[0;34m)\u001b[0m\u001b[0;34m)\u001b[0m\u001b[0;34m\u001b[0m\u001b[0;34m\u001b[0m\u001b[0m\n\u001b[0m\u001b[1;32m      2\u001b[0m \u001b[0mprint\u001b[0m\u001b[0;34m(\u001b[0m\u001b[0mgrzegorzewski\u001b[0m\u001b[0;34m(\u001b[0m\u001b[0mviral_fever\u001b[0m\u001b[0;34m,\u001b[0m\u001b[0mal\u001b[0m\u001b[0;34m,\u001b[0m\u001b[0mDISTANCE_EUCLIDEAN\u001b[0m\u001b[0;34m)\u001b[0m\u001b[0;34m)\u001b[0m\u001b[0;34m\u001b[0m\u001b[0;34m\u001b[0m\u001b[0m\n\u001b[1;32m      3\u001b[0m \u001b[0mprint\u001b[0m\u001b[0;34m(\u001b[0m\u001b[0mgrzegorzewski\u001b[0m\u001b[0;34m(\u001b[0m\u001b[0mviral_fever\u001b[0m\u001b[0;34m,\u001b[0m\u001b[0mal\u001b[0m\u001b[0;34m,\u001b[0m\u001b[0mDISTANCE_NORMALIZED_HAMMING\u001b[0m\u001b[0;34m)\u001b[0m\u001b[0;34m)\u001b[0m\u001b[0;34m\u001b[0m\u001b[0;34m\u001b[0m\u001b[0m\n\u001b[1;32m      4\u001b[0m \u001b[0mprint\u001b[0m\u001b[0;34m(\u001b[0m\u001b[0mgrzegorzewski\u001b[0m\u001b[0;34m(\u001b[0m\u001b[0mviral_fever\u001b[0m\u001b[0;34m,\u001b[0m\u001b[0mal\u001b[0m\u001b[0;34m,\u001b[0m\u001b[0mDISTANCE_NORMALIZED_EUCLIDEAN\u001b[0m\u001b[0;34m)\u001b[0m\u001b[0;34m)\u001b[0m\u001b[0;34m\u001b[0m\u001b[0;34m\u001b[0m\u001b[0m\n",
            "\u001b[0;31mNameError\u001b[0m: name 'grzegorzewski' is not defined"
          ]
        }
      ],
      "source": [
        "print(grzegorzewski(viral_fever,al,DISTANCE_HAMMING))\n",
        "print(grzegorzewski(viral_fever,al,DISTANCE_EUCLIDEAN))\n",
        "print(grzegorzewski(viral_fever,al,DISTANCE_NORMALIZED_HAMMING))\n",
        "print(grzegorzewski(viral_fever,al,DISTANCE_NORMALIZED_EUCLIDEAN))"
      ]
    },
    {
      "cell_type": "code",
      "execution_count": null,
      "metadata": {
        "colab": {
          "base_uri": "https://localhost:8080/"
        },
        "id": "pKtjUWFggIQa",
        "outputId": "331f7431-316a-4fba-c33e-872eabb3eb38"
      },
      "outputs": [
        {
          "name": "stdout",
          "output_type": "stream",
          "text": [
            "0.17\n",
            "0.14999999999999997\n"
          ]
        }
      ],
      "source": [
        "print(wang_xin(viral_fever,al,WANGXIN_DISTANCE_1,weights=[0.1,0.2,0.3,0.4,0.5]))\n",
        "print(wang_xin(viral_fever, milar, distance_type = WANGXIN_DISTANCE_1, weights = None, p = 1))"
      ]
    },
    {
      "cell_type": "code",
      "execution_count": null,
      "metadata": {
        "colab": {
          "base_uri": "https://localhost:8080/"
        },
        "id": "O-YczOQliXnI",
        "outputId": "f461bbdb-c9ea-4610-e02b-029b578a572c"
      },
      "outputs": [
        {
          "name": "stdout",
          "output_type": "stream",
          "text": [
            "['/content', '/env/python', '/usr/lib/python310.zip', '/usr/lib/python3.10', '/usr/lib/python3.10/lib-dynload', '', '/usr/local/lib/python3.10/dist-packages', '/usr/lib/python3/dist-packages', '/usr/local/lib/python3.10/dist-packages/IPython/extensions', '/root/.ipython', '/content/drive/MyDrive/fsmpy extracted/fsmpy-main', '/content/drive/MyDrive/fsmpy extracted/fsmpy-main']\n"
          ]
        }
      ],
      "source": [
        "\n",
        "sys.path.append('/content/drive/MyDrive/fsmpy extracted/fsmpy-main')\n",
        "from fsmpy.sets import IntuitionisticFuzzySet,FuzzySet\n",
        "from collections.abc import Callable\n",
        "print(sys.path)\n",
        "from fsmpy.distances import atanassov\n",
        "from fsmpy.utils.classifiers import classify\n",
        "from fsmpy import DISTANCE_HAMMING\n"
      ]
    },
    {
      "cell_type": "code",
      "execution_count": null,
      "metadata": {
        "colab": {
          "base_uri": "https://localhost:8080/"
        },
        "id": "H601ZVq06nj2",
        "outputId": "e090cdd9-d4f1-4c54-e23a-b00a7540d0ae"
      },
      "outputs": [
        {
          "name": "stdout",
          "output_type": "stream",
          "text": [
            "0.8999999999999999\n",
            "1.4000000000000001\n",
            "1.6\n",
            "1.9\n",
            "2.4000000000000004\n",
            "0.23896854865395595\n",
            "0.6541953538388426\n",
            "0.4483228153591695\n",
            "1.0751908693354804\n",
            "1.2462739187125054\n"
          ]
        }
      ],
      "source": [
        "from fsmpy.sets import IntuitionisticFuzzySet,FuzzySet\n",
        "from fsmpy.distances import grzegorzewski\n",
        "from fsmpy.distances import vlachos_sergiadis,wang_xin\n",
        "from fsmpy.utils.classifiers import classify\n",
        "from fsmpy import DISTANCE_HAMMING,WANGXIN_DISTANCE_1\n",
        "grzegorzewski(dg, milar, DISTANCE_HAMMING)\n",
        "for dg in diagnoses:\n",
        "    print(grzegorzewski(dg, milar, DISTANCE_HAMMING))\n",
        "for dg in diagnoses:\n",
        "    print(vlachos_sergiadis(dg, milar))"
      ]
    },
    {
      "cell_type": "code",
      "execution_count": null,
      "metadata": {
        "colab": {
          "base_uri": "https://localhost:8080/"
        },
        "id": "jvvnbTaiUbah",
        "outputId": "e69c279c-0f62-4ee2-c3b7-b23946978bf1"
      },
      "outputs": [
        {
          "name": "stdout",
          "output_type": "stream",
          "text": [
            "0.8904554884989668\n",
            "0.8735088935932649\n",
            "0.6564887192536467\n",
            "0.8592947798724841\n",
            "0.7185895597449683\n",
            "0.5199999999999999\n",
            "0.6779725148647086\n",
            "0.7582724189318805\n",
            "0.7626518047667866\n",
            "0.569\n",
            "0.3870695970695971\n",
            "0.9099999999999999\n",
            "0.61\n",
            "0.5999999999999999\n",
            "0.504\n",
            "0.6122448979591836\n",
            "1.2821515639077057\n",
            "0.6341242937853105\n",
            "0.2559760605527196\n",
            "0.8212837466767439\n",
            "0.9111666666666667\n",
            "0.07543035993740217\n"
          ]
        },
        {
          "name": "stderr",
          "output_type": "stream",
          "text": [
            "/content/drive/MyDrive/fsmpy extracted/fsmpy-main/fsmpy/similarities.py:439: RuntimeWarning: divide by zero encountered in log\n",
            "  result = np.log(arr)\n",
            "/content/drive/MyDrive/fsmpy extracted/fsmpy-main/fsmpy/similarities.py:1165: UserWarning: Ignoring parameter p (not used in provided similarity_type).\n",
            "  warnings.warn(\"Ignoring parameter p (not used in provided similarity_type).\")\n"
          ]
        }
      ],
      "source": [
        "from fsmpy.similarities import dengfeng_chuntian,liang_shi,park_kwun_lim,mitchell,julian_hung_lin,hung_yang_1,ye,hwang_yang,hung_yang_2,zhang_fu,hung_yang_3,chen_1,hung_yang_4,chen_2,liu,iancu,song_wang_lei_xue,intarapaiboon,deng_jiang_fu,nguyen,chen_cheng_lan,muthukumar_krishnanb\n",
        "from fsmpy import LIANG_SHI_SIMILARITY_1, LIANG_SHI_SIMILARITY_2, LIANG_SHI_SIMILARITY_3,HUNG_YANG_2_SIMILARITY_1,HUNG_YANG_3_SIMILARITY_1,HUNG_YANG_4_SIMILARITY_1,IANCU_SIMILARITY_1,DENG_JIANG_FU_MONOTONIC_TYPE_1_1\n",
        "print(dengfeng_chuntian(viral_fever, milar,p=2))\n",
        "print(liang_shi(viral_fever, milar, p=2, similarity_type = LIANG_SHI_SIMILARITY_1))\n",
        "print(park_kwun_lim(viral_fever , milar,p=2,weights=[0.1,0.2,0.3,0.4,0.5]))\n",
        "print(mitchell(viral_fever,milar,p=2))\n",
        "print(julian_hung_lin(viral_fever, milar,p=2))\n",
        "print(hung_yang_1(dg, milar))\n",
        "print(ye(dg, milar))\n",
        "print(hwang_yang(dg, milar))\n",
        "print(hung_yang_2(dg, milar, similarity_type= HUNG_YANG_2_SIMILARITY_1))\n",
        "print(zhang_fu(dg, milar))\n",
        "print(hung_yang_3(dg, milar,HUNG_YANG_3_SIMILARITY_1))\n",
        "print(chen_1(dg,milar))\n",
        "print(hung_yang_4(dg, milar, similarity_type= HUNG_YANG_4_SIMILARITY_1))\n",
        "print(chen_2(dg, milar, weights = [0.1,0.2,0.3,0.4,0.5], a = 3, b = 0, c = 2))\n",
        "print(liu(dg, milar, p = 1, weights = [0.1,0.2,0.3,0.4,0.5], a = 0.4, b = 0.3, c = 0.3))\n",
        "print(iancu(dg, milar, similarity_type = IANCU_SIMILARITY_1, lamda = 0))\n",
        "print(song_wang_lei_xue(dg, milar, weights = [0.1,0.2,0.3,0.4,0.5]))\n",
        "print(intarapaiboon(dg, milar))\n",
        "print(deng_jiang_fu(dg,milar, similarity_type = DENG_JIANG_FU_MONOTONIC_TYPE_1_1, p = 1, u = None, v = None))\n",
        "print(nguyen(dg, milar))\n",
        "print(chen_cheng_lan(dg, milar, weights=[0.1,0.2,0.3,0.4,0.5]))\n",
        "print(muthukumar_krishnanb(dg, milar, weights=[0.1,0.2,0.3,0.4,0.5]))"
      ]
    },
    {
      "cell_type": "code",
      "execution_count": null,
      "metadata": {
        "colab": {
          "base_uri": "https://localhost:8080/"
        },
        "id": "Mq2O4wd85Dqp",
        "outputId": "8c13db67-fd30-4608-9bab-125edcd7f778"
      },
      "outputs": [
        {
          "data": {
            "text/plain": [
              "0.27999999999999997"
            ]
          },
          "execution_count": 10,
          "metadata": {},
          "output_type": "execute_result"
        }
      ],
      "source": [
        "from fsmpy.misc import fuzzy_divergence,fuzzy_index\n",
        "fuzzy_divergence(dg,milar)\n",
        "from fsmpy.utils._measure_input_validation import check_sets_cardinality\n",
        "check_sets_cardinality(dg, milar)\n",
        "fuzzy_index(dg,1)"
      ]
    },
    {
      "cell_type": "code",
      "execution_count": null,
      "metadata": {
        "colab": {
          "base_uri": "https://localhost:8080/"
        },
        "id": "uYxKtytnRHaU",
        "outputId": "247b95ac-380d-4156-9b4e-c066a52f2ad1"
      },
      "outputs": [
        {
          "name": "stdout",
          "output_type": "stream",
          "text": [
            "0.8904554884989668\n",
            "0.8735088935932649\n",
            "0.6564887192536467\n",
            "0.8592947798724841\n",
            "0.7185895597449683\n"
          ]
        }
      ],
      "source": [
        "print(dengfeng_chuntian(viral_fever, milar,p=2))\n",
        "print(liang_shi(viral_fever, milar, p=2, similarity_type = LIANG_SHI_SIMILARITY_1))\n",
        "print(park_kwun_lim(viral_fever , milar,p=2,weights=[0.1,0.2,0.3,0.4,0.5]))\n",
        "print(mitchell(viral_fever,milar,p=2))\n",
        "print(julian_hung_lin(viral_fever, milar,p=2))"
      ]
    },
    {
      "cell_type": "code",
      "execution_count": null,
      "metadata": {
        "colab": {
          "base_uri": "https://localhost:8080/"
        },
        "id": "nY0Zq5okB_RL",
        "outputId": "97638738-179c-4a9c-f32e-33ccd47d365b"
      },
      "outputs": [
        {
          "name": "stdout",
          "output_type": "stream",
          "text": [
            "[0.65678688 0.23079107 0.54714992]\n",
            "[0.24321312 0.66920893 0.35285008]\n",
            "[0.3004457  0.6018644  0.38050194]\n",
            "[0.5995543  0.2981356  0.51949806]\n",
            "[<fsmpy.sets.IntuitionisticFuzzySet object at 0x7e6e941302b0>, <fsmpy.sets.IntuitionisticFuzzySet object at 0x7e6e94130340>, <fsmpy.sets.IntuitionisticFuzzySet object at 0x7e6e941303a0>, <fsmpy.sets.IntuitionisticFuzzySet object at 0x7e6e941305b0>, <fsmpy.sets.IntuitionisticFuzzySet object at 0x7e6e94130610>]\n"
          ]
        },
        {
          "data": {
            "text/plain": [
              "array([<fsmpy.sets.IntuitionisticFuzzySet object at 0x7e6e941302b0>,\n",
              "       <fsmpy.sets.IntuitionisticFuzzySet object at 0x7e6e94130340>,\n",
              "       <fsmpy.sets.IntuitionisticFuzzySet object at 0x7e6e941303a0>,\n",
              "       <fsmpy.sets.IntuitionisticFuzzySet object at 0x7e6e941305b0>,\n",
              "       <fsmpy.sets.IntuitionisticFuzzySet object at 0x7e6e94130610>],\n",
              "      dtype=object)"
            ]
          },
          "execution_count": 3,
          "metadata": {},
          "output_type": "execute_result"
        }
      ],
      "source": [
        "import numpy as np\n",
        "from numpy.testing import assert_equal, assert_almost_equal\n",
        "\n",
        "from fsmpy.utils.classifiers import FuzzyTextClassifier\n",
        "from fsmpy.utils import calculate_documents_membership\n",
        "from fsmpy.sets import IntuitionisticFuzzySet\n",
        "from fsmpy.similarities import intarapaiboon\n",
        "\n",
        "\n",
        "X = [\n",
        "    [15, 2, 7],\n",
        "    [10, 3, 5],\n",
        "    [2, 9, 6],\n",
        "    [3, 11, 5],\n",
        "    [3, 9, 4]\n",
        "]\n",
        "\n",
        "sets, _, _ = calculate_documents_membership(X, 0.9, 0.9)\n",
        "\n",
        "cls = FuzzyTextClassifier(intarapaiboon, is_distance = False)\n",
        "cls.fit(np.array(sets), np.array([1, 1, 2, 2, 2]))\n",
        "\n",
        "assert_almost_equal(\n",
        "    cls.class_patterns[1].membership_values,\n",
        "    [0.66, 0.23, 0.55],\n",
        "    decimal=2\n",
        ")\n",
        "assert_almost_equal(\n",
        "    cls.class_patterns[1].non_membership_values,\n",
        "    [0.24, 0.67, 0.35],\n",
        "    decimal=2\n",
        " )\n",
        "\n",
        "assert_almost_equal(\n",
        "    cls.class_patterns[2].membership_values,\n",
        "    [0.30, 0.60, 0.38],\n",
        "     decimal=2\n",
        ")\n",
        "assert_almost_equal(\n",
        "     cls.class_patterns[2].non_membership_values,\n",
        "    [0.60, 0.30, 0.52],\n",
        "    decimal=2\n",
        ")\n",
        "\n",
        "y_pred = cls.predict([\n",
        "    IntuitionisticFuzzySet([0.58, 0.39, 0.39], [0.32, 0.51, 0.51])\n",
        " ])\n",
        "assert_equal(y_pred, [1])\n",
        "\n",
        "y_proba = cls.predict_proba([\n",
        "    IntuitionisticFuzzySet([0.58, 0.39, 0.39], [0.32, 0.51, 0.51])\n",
        " ])\n",
        "print(cls.class_patterns[1].membership_values)\n",
        "print(cls.class_patterns[1].non_membership_values)\n",
        "print(cls.class_patterns[2].membership_values)\n",
        "print(cls.class_patterns[2].non_membership_values)\n",
        "print(sets)\n",
        "np.array([\n",
        "    [15, 2, 7],\n",
        "    [10, 3, 5],\n",
        "    [2, 9, 6],\n",
        "    [3, 11, 5],\n",
        "    [3, 9, 4]\n",
        "])\n",
        "np.mean(X, axis=0, dtype=np.float64)\n",
        "np.array(sets)"
      ]
    },
    {
      "cell_type": "code",
      "execution_count": null,
      "metadata": {
        "colab": {
          "base_uri": "https://localhost:8080/"
        },
        "id": "NIgTlhQcD6-q",
        "outputId": "2f5d95bb-3c4c-4a68-8bd4-525752ebe5a7"
      },
      "outputs": [
        {
          "data": {
            "text/plain": [
              "array([0.65678688, 0.23079107, 0.54714992])"
            ]
          },
          "execution_count": 6,
          "metadata": {},
          "output_type": "execute_result"
        }
      ],
      "source": [
        "import numpy as np\n",
        "from numpy.testing import assert_equal, assert_almost_equal\n",
        "\n",
        "from fsmpy.utils.classifiers import FuzzyTextClassifier\n",
        "from fsmpy.utils import calculate_documents_membership\n",
        "from fsmpy.sets import IntuitionisticFuzzySet\n",
        "from fsmpy.similarities import intarapaiboon\n",
        "\n",
        "\n",
        "X = [\n",
        "    [15, 2, 7],\n",
        "    [10, 3, 5],\n",
        "    [2, 9, 6],\n",
        "    [3, 11, 5],\n",
        "    [3, 9, 4]\n",
        "]\n",
        "\n",
        "sets, _, _ = calculate_documents_membership(X, 0.9, 0.9)\n",
        "\n",
        "cls = FuzzyTextClassifier(intarapaiboon, is_distance = False)\n",
        "cls.fit(np.array(sets), np.array([1, 1, 2, 2, 2]))\n",
        "\n",
        "assert_almost_equal(\n",
        "    cls.class_patterns[1].membership_values,\n",
        "    [0.66, 0.23, 0.55],\n",
        "    decimal=2\n",
        ")\n",
        "assert_almost_equal(\n",
        "    cls.class_patterns[1].non_membership_values,\n",
        "    [0.24, 0.67, 0.35],\n",
        "    decimal=2\n",
        " )\n",
        "\n",
        "assert_almost_equal(\n",
        "    cls.class_patterns[2].membership_values,\n",
        "    [0.30, 0.60, 0.38],\n",
        "     decimal=2\n",
        ")\n",
        "assert_almost_equal(\n",
        "     cls.class_patterns[2].non_membership_values,\n",
        "    [0.60, 0.30, 0.52],\n",
        "    decimal=2\n",
        ")\n",
        "cls.class_patterns[1].membership_values"
      ]
    },
    {
      "cell_type": "code",
      "execution_count": null,
      "metadata": {
        "colab": {
          "base_uri": "https://localhost:8080/"
        },
        "id": "jruC4R5lqDBN",
        "outputId": "47c8dba8-80f1-4a8d-c12f-0453f40e1f04"
      },
      "outputs": [
        {
          "name": "stdout",
          "output_type": "stream",
          "text": [
            "None\n"
          ]
        }
      ],
      "source": [
        "import numpy as np\n",
        "from numpy.testing import assert_almost_equal\n",
        "from numpy.testing import assert_equal\n",
        "import math\n",
        "\n",
        "from fsmpy.sets import IntuitionisticFuzzySet\n",
        "from fsmpy.distances import atanassov, szmidt_kacprzyk, wang_xin, yang_chiclana, grzegorzewski, vlachos_sergiadis\n",
        "from fsmpy import DISTANCE_HAMMING, DISTANCE_EUCLIDEAN, DISTANCE_NORMALIZED_EUCLIDEAN, DISTANCE_NORMALIZED_HAMMING\n",
        "from fsmpy import WANGXIN_DISTANCE_1, WANGXIN_DISTANCE_2\n",
        "from fsmpy.datasets import load_patients_diagnoses\n",
        "\n",
        "A = IntuitionisticFuzzySet([1], [0], [0])\n",
        "B = IntuitionisticFuzzySet([0], [1], [0])\n",
        "D = IntuitionisticFuzzySet([0], [0], [1])\n",
        "G = IntuitionisticFuzzySet([0.5], [0.5], [0])\n",
        "E = IntuitionisticFuzzySet([0.25], [0.25], [0.5])\n",
        "print(assert_equal(szmidt_kacprzyk(A, D, DISTANCE_EUCLIDEAN), 1))  # Eq. 73\n",
        "assert_equal(szmidt_kacprzyk(B, D, DISTANCE_EUCLIDEAN), 1)  # Eq. 74\n",
        "assert_equal(szmidt_kacprzyk(A, B, DISTANCE_EUCLIDEAN), 1)  # Eq. 75\n",
        "assert_equal(szmidt_kacprzyk(A, G, DISTANCE_EUCLIDEAN), 0.5)  # Eq. 76\n",
        "assert_equal(szmidt_kacprzyk(B, G, DISTANCE_EUCLIDEAN), 0.5)  # Eq. 77\n",
        "assert_equal(szmidt_kacprzyk(E, G, DISTANCE_EUCLIDEAN),\n",
        "              math.sqrt(3.) / 4.)  # Eq. 78\n",
        "assert_equal(szmidt_kacprzyk(D, G, DISTANCE_EUCLIDEAN),\n",
        "              math.sqrt(3.) / 2.)  # Eq. 79\n",
        "\n",
        "A = IntuitionisticFuzzySet(\n",
        "    [0.5, 0.2, 0, 0.3, 0.2, 1, 0],\n",
        "    [0.3, 0.6, 1, 0.2, 0.2, 0, 1],\n",
        "    [0.2, 0.2, 0, 0.5, 0.6, 0, 0])\n",
        "B = IntuitionisticFuzzySet(\n",
        "    [0.2, 0, 0, 0.3, 0.5, 0, 0.9],\n",
        "    [0.6, 1, 1, 0.2, 0.2, 1, 0],\n",
        "    [0.2, 0, 0, 0.5, 0.3, 0, 0.1])\n",
        "assert_equal(szmidt_kacprzyk(A, B, DISTANCE_HAMMING), 3)  # Eq. 82\n",
        "assert_almost_equal(szmidt_kacprzyk(\n",
        "    A, B, DISTANCE_NORMALIZED_HAMMING), 0.43, decimal=2)  # Eq. 83\n",
        "assert_almost_equal(szmidt_kacprzyk(\n",
        "    A, B, DISTANCE_EUCLIDEAN), 1.49, decimal=2)  # Eq. 86\n",
        "assert_almost_equal(szmidt_kacprzyk(\n",
        "    A, B, DISTANCE_NORMALIZED_EUCLIDEAN), 0.56, decimal=2)  # Eq. 87\n",
        "\n",
        "A.hesitation_degrees = np.zeros_like(A.membership_values)\n",
        "B.hesitation_degrees = np.zeros_like(B.membership_values)\n",
        "assert_equal(szmidt_kacprzyk(A, B, DISTANCE_HAMMING), 2.7)  # Eq. 84\n",
        "assert_almost_equal(szmidt_kacprzyk(\n",
        "    A, B, DISTANCE_NORMALIZED_HAMMING), 0.39, decimal=2)  # Eq. 85\n",
        "assert_almost_equal(szmidt_kacprzyk(\n",
        "    A, B, DISTANCE_EUCLIDEAN), 1.46, decimal=2)  # Eq. 88\n",
        "assert_almost_equal(szmidt_kacprzyk(\n",
        "    A, B, DISTANCE_NORMALIZED_EUCLIDEAN), 0.55, decimal=2)  # Eq. 89\n"
      ]
    }
  ],
  "metadata": {
    "colab": {
      "provenance": [],
      "authorship_tag": "ABX9TyPOJj7CdN3ZNSuzSlNaNBQ6",
      "include_colab_link": true
    },
    "kernelspec": {
      "display_name": "Python 3",
      "name": "python3"
    },
    "language_info": {
      "name": "python"
    }
  },
  "nbformat": 4,
  "nbformat_minor": 0
}